{
  "cells": [
    {
      "cell_type": "markdown",
      "metadata": {},
      "source": [
        "# Project 2: Machine Learning - SMS Spam Classification (FILL-IN VERSION)\n",
        "\n",
        "## Overview\n",
        "This is the fill-in version for classroom instruction. Complete the missing code sections to build a complete ML pipeline for SMS spam classification.\n",
        "\n",
        "## Learning Objectives\n",
        "- **Supervised Learning**: Text classification with multiple algorithms\n",
        "- **Unsupervised Learning**: Clustering and dimensionality reduction\n",
        "- **Model Evaluation**: Comprehensive performance metrics\n",
        "- **Deployment**: FastAPI web service creation\n",
        "\n",
        "## Instructions\n",
        "- Fill in the code sections marked with `# TODO: ...`\n",
        "- Run each cell after completing it\n",
        "- Ask for help if you get stuck!"
      ]
    },
    {
      "cell_type": "markdown",
      "metadata": {},
      "source": [
        "## Phase 1: Data Loading and Exploration (0-20 minutes)"
      ]
    },
    {
      "cell_type": "code",
      "execution_count": null,
      "metadata": {},
      "outputs": [],
      "source": [
        "# TODO: Import necessary libraries\n",
        "# Hint: You'll need pandas, numpy, matplotlib, seaborn, and sklearn modules\n",
        "import pandas as pd\n",
        "import numpy as np\n",
        "import matplotlib.pyplot as plt\n",
        "import seaborn as sns\n",
        "from sklearn.model_selection import train_test_split\n",
        "from sklearn.feature_extraction.text import TfidfVectorizer\n",
        "from sklearn.linear_model import LogisticRegression\n",
        "from sklearn.naive_bayes import MultinomialNB\n",
        "from sklearn.ensemble import RandomForestClassifier\n",
        "from sklearn.metrics import classification_report, accuracy_score\n",
        "from sklearn.cluster import KMeans\n",
        "from sklearn.decomposition import PCA\n",
        "import re\n",
        "import warnings\n",
        "warnings.filterwarnings('ignore')\n",
        "\n",
        "print(\"✅ Libraries imported successfully!\")"
      ]
    },
    {
      "cell_type": "code",
      "execution_count": null,
      "metadata": {},
      "outputs": [],
      "source": [
        "# TODO: Load the dataset\n",
        "# Hint: Use pd.read_csv() to load 'sms_spam_dataset.csv'\n",
        "df = pd.read_csv('sms_spam_dataset.csv')\n",
        "\n",
        "# TODO: Display basic information about the dataset\n",
        "print(\"📊 Dataset Overview:\")\n",
        "print(f\"Shape: {df.shape}\")\n",
        "print(f\"Columns: {list(df.columns)}\")\n",
        "\n",
        "# TODO: Display first few rows\n",
        "print(\"\\n📋 First 5 rows:\")\n",
        "# TODO: Use df.head() to display first 5 rows\n",
        "df.head()"
      ]
    },
    {
      "cell_type": "code",
      "execution_count": null,
      "metadata": {},
      "outputs": [],
      "source": [
        "# TODO: Explore the data\n",
        "print(\"🔍 Data Exploration:\")\n",
        "\n",
        "# TODO: Check for missing values\n",
        "print(\"\\n2. Missing Values:\")\n",
        "print(df.isnull().sum())\n",
        "\n",
        "# TODO: Check label distribution\n",
        "print(\"\\n3. Label Distribution:\")\n",
        "# TODO: Use df['label'].value_counts() to see spam vs ham distribution\n",
        "print(df['label'].value_counts())\n",
        "\n",
        "# TODO: Display basic statistics\n",
        "print(\"\\n4. Basic Statistics:\")\n",
        "# TODO: Use df.describe() to get statistical summary\n",
        "df.describe()"
      ]
    },
    {
      "cell_type": "markdown",
      "metadata": {},
      "source": [
        "## Phase 2: Supervised Learning (20-50 minutes)"
      ]
    },
    {
      "cell_type": "code",
      "execution_count": null,
      "metadata": {},
      "outputs": [],
      "source": [
        "# TODO: Text preprocessing function\n",
        "def preprocess_text(text):\n",
        "    # TODO: Convert to lowercase\n",
        "    text = text.lower()\n",
        "    \n",
        "    # TODO: Remove punctuation (keep only letters, numbers, and spaces)\n",
        "    text = re.sub(r'[^a-zA-Z0-9\\s]', '', text)\n",
        "    \n",
        "    # TODO: Remove extra whitespaces\n",
        "    text = ' '.join(text.split())\n",
        "    \n",
        "    return text\n",
        "\n",
        "# TODO: Apply preprocessing to the text column\n",
        "df['text_processed'] = df['text'].apply(preprocess_text)\n",
        "\n",
        "print(\"📝 Text preprocessing completed!\")\n",
        "print(\"\\nExample:\")\n",
        "print(f\"Original: {df['text'].iloc[0]}\")\n",
        "print(f\"Processed: {df['text_processed'].iloc[0]}\")"
      ]
    },
    {
      "cell_type": "code",
      "execution_count": null,
      "metadata": {},
      "outputs": [],
      "source": [
        "# TODO: Prepare the data for machine learning\n",
        "# Hint: Create X (features) and y (target)\n",
        "X = df['text_processed']  # TODO: Use df['text_processed'] as features\n",
        "y = df['label']  # TODO: Use df['label'] as target\n",
        "\n",
        "# TODO: Split the data into training and testing sets\n",
        "# Hint: Use train_test_split with test_size=0.2, random_state=42\n",
        "X_train, X_test, y_train, y_test = train_test_split(X, y, test_size=0.2, random_state=42, stratify=y)\n",
        "\n",
        "# TODO: Create TF-IDF vectorizer and transform the text data\n",
        "# Hint: Use TfidfVectorizer with max_features=1000, stop_words='english'\n",
        "tfidf_vectorizer = TfidfVectorizer(max_features=1000, stop_words='english')\n",
        "X_train_tfidf = tfidf_vectorizer.fit_transform(X_train)\n",
        "X_test_tfidf = tfidf_vectorizer.transform(X_test)\n",
        "\n",
        "print(\"🚀 Data Preparation Complete!\")\n",
        "print(f\"Training set size: {X_train_tfidf.shape}\")\n",
        "print(f\"Test set size: {X_test_tfidf.shape}\")"
      ]
    },
    {
      "cell_type": "code",
      "execution_count": null,
      "metadata": {},
      "outputs": [],
      "source": [
        "# TODO: Train and evaluate different models\n",
        "# Hint: Try Logistic Regression, Naive Bayes, and Random Forest\n",
        "\n",
        "# TODO: Initialize the models\n",
        "models = {\n",
        "    'Logistic Regression': LogisticRegression(random_state=42),\n",
        "    'Naive Bayes': MultinomialNB(),\n",
        "    'Random Forest': RandomForestClassifier(n_estimators=100, random_state=42)\n",
        "}\n",
        "\n",
        "results = {}\n",
        "print(\"🎯 Model Training and Evaluation:\")\n",
        "\n",
        "# TODO: Create a loop to train and evaluate each model\n",
        "for name, model in models.items():\n",
        "    print(f\"\\n🤖 Training {name}...\")\n",
        "    \n",
        "    # TODO: Train the model using fit()\n",
        "    model.fit(X_train_tfidf, y_train)\n",
        "    \n",
        "    # TODO: Make predictions using predict()\n",
        "    y_pred = model.predict(X_test_tfidf)\n",
        "    \n",
        "    # TODO: Calculate accuracy using accuracy_score()\n",
        "    accuracy = accuracy_score(y_test, y_pred)\n",
        "    \n",
        "    # TODO: Print classification report\n",
        "    print(f\"✅ {name} Accuracy: {accuracy:.4f}\")\n",
        "    print(f\"📊 Classification Report:\")\n",
        "    print(classification_report(y_test, y_pred, target_names=['Ham', 'Spam']))\n",
        "    \n",
        "    # Store results\n",
        "    results[name] = {\n",
        "        'model': model,\n",
        "        'accuracy': accuracy\n",
        "    }\n",
        "\n",
        "# TODO: Find the best model\n",
        "best_model_name = max(results, key=lambda x: results[x]['accuracy'])\n",
        "print(f\"\\n🏆 Best Model: {best_model_name}\")"
      ]
    },
    {
      "cell_type": "markdown",
      "metadata": {},
      "source": [
        "## Phase 3: Unsupervised Learning (50-70 minutes)"
      ]
    },
    {
      "cell_type": "code",
      "execution_count": null,
      "metadata": {},
      "outputs": [],
      "source": [
        "# TODO: Apply K-means clustering\n",
        "print(\"🔍 Unsupervised Learning - K-means Clustering:\")\n",
        "\n",
        "# TODO: Create KMeans with n_clusters=2\n",
        "kmeans = KMeans(n_clusters=2, random_state=42)\n",
        "\n",
        "# TODO: Fit the model and predict clusters\n",
        "X_full_tfidf = tfidf_vectorizer.transform(df['text_processed'])\n",
        "cluster_labels = kmeans.fit_predict(X_full_tfidf)\n",
        "\n",
        "# TODO: Add cluster labels to dataframe\n",
        "df['cluster'] = cluster_labels\n",
        "\n",
        "# TODO: Analyze clusters\n",
        "print(\"📊 Cluster Analysis:\")\n",
        "cluster_analysis = df.groupby(['cluster', 'label']).size().unstack(fill_value=0)\n",
        "print(cluster_analysis)\n",
        "\n",
        "# TODO: Calculate cluster purity\n",
        "cluster_0_purity = max(cluster_analysis.iloc[0]) / cluster_analysis.iloc[0].sum()\n",
        "cluster_1_purity = max(cluster_analysis.iloc[1]) / cluster_analysis.iloc[1].sum()\n",
        "\n",
        "print(f\"\\n🎯 Cluster Purity:\")\n",
        "print(f\"Cluster 0 purity: {cluster_0_purity:.4f}\")\n",
        "print(f\"Cluster 1 purity: {cluster_1_purity:.4f}\")"
      ]
    },
    {
      "cell_type": "markdown",
      "metadata": {},
      "source": [
        "## Summary\n",
        "\n",
        "### What You've Learned:\n",
        "- Text preprocessing and feature engineering\n",
        "- Supervised learning with multiple algorithms\n",
        "- Unsupervised learning techniques\n",
        "- Model evaluation and comparison\n",
        "- Deployment preparation\n",
        "\n",
        "### Instructions:\n",
        "1. Complete all TODO sections in order\n",
        "2. Run each cell after filling in the code\n",
        "3. Ask questions if you get stuck\n",
        "4. Share your findings with the class\n",
        "\n",
        "### Next Steps:\n",
        "After completing this notebook, you'll be ready to:\n",
        "- Create FastAPI web services\n",
        "- Deploy ML models in production\n",
        "- Handle real-world text classification problems"
      ]
    }
  ],
  "metadata": {
    "kernelspec": {
      "display_name": "Python 3",
      "language": "python",
      "name": "python3"
    },
    "language_info": {
      "codemirror_mode": {
        "name": "ipython",
        "version": 3
      },
      "file_extension": ".py",
      "mimetype": "text/x-python",
      "name": "python",
      "nbconvert_exporter": "python",
      "pygments_lexer": "ipython3",
      "version": "3.9.0"
    }
  },
  "nbformat": 4,
  "nbformat_minor": 4
}