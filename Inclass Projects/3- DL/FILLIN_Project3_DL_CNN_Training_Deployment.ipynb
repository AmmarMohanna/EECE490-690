{
  "cells": [
    {
      "cell_type": "raw",
      "metadata": {
        "vscode": {
          "languageId": "raw"
        }
      },
      "source": [
        "# Project 3: Deep Learning - CNN Training and Deployment\n",
        "\n",
        "## Overview\n",
        "This project demonstrates the complete deep learning pipeline from CNN training to production deployment. We'll train a Fashion-MNIST classifier and deploy it as a REST API.\n",
        "\n",
        "## Project Structure (90 minutes)\n",
        "\n",
        "### Phase 1: Kick-off and Setup (0-5 min)\n",
        "- Environment verification\n",
        "- Dataset exploration\n",
        "\n",
        "### Phase 2: Local CNN Training (5-35 min)\n",
        "- CNN architecture design\n",
        "- Training loop implementation\n",
        "- Model evaluation and serialization\n",
        "\n",
        "### Phase 3: API Development (35-55 min)\n",
        "- FastAPI service creation\n",
        "- Endpoint implementation\n",
        "- Local API testing\n",
        "\n",
        "### Phase 4: Containerization (55-75 min)\n",
        "- Docker container build\n",
        "- Container testing\n",
        "\n",
        "### Phase 5: Cloud Deployment (75-90 min)\n",
        "- Remote deployment\n",
        "- Production API testing\n",
        "\n",
        "Let's begin!\n"
      ]
    },
    {
      "cell_type": "code",
      "execution_count": null,
      "metadata": {},
      "outputs": [],
      "source": [
        "# Phase 1: Environment Setup and Data Loading\n",
        "\n",
        "# TODO: Import necessary libraries\n",
        "# Import torch, torch.nn, torch.nn.functional, torch.optim\n",
        "# Import torchvision and torchvision.transforms\n",
        "# Import numpy, matplotlib.pyplot, seaborn, tqdm, os, joblib, datetime\n",
        "\n",
        "# TODO: Set device\n",
        "# device = torch.device(...)\n",
        "\n",
        "# TODO: Define Fashion-MNIST class names\n",
        "# CLASS_NAMES = [...]\n",
        "\n",
        "print(\"Environment setup complete!\")\n",
        "# TODO: Uncomment these lines after completing the imports above\n",
        "# print(f\"PyTorch version: {torch.__version__}\")\n",
        "# print(f\"Device: {device}\")\n",
        "# print(f\"Number of classes: {len(CLASS_NAMES)}\")\n"
      ]
    },
    {
      "cell_type": "code",
      "execution_count": null,
      "metadata": {},
      "outputs": [],
      "source": [
        "# Load Fashion-MNIST Dataset\n",
        "\n",
        "# TODO: Define data transformations\n",
        "# transform = transforms.Compose([...])\n",
        "\n",
        "# TODO: Load training and test datasets\n",
        "# train_dataset = torchvision.datasets.FashionMNIST(...)\n",
        "# test_dataset = torchvision.datasets.FashionMNIST(...)\n",
        "\n",
        "# TODO: Create data loaders\n",
        "# batch_size = 64\n",
        "# train_loader = DataLoader(...)\n",
        "# test_loader = DataLoader(...)\n",
        "\n",
        "# TODO: Print dataset information\n",
        "# print(f\"Training samples: {len(train_dataset)}\")\n",
        "# print(f\"Test samples: {len(test_dataset)}\")\n",
        "\n",
        "# TODO: Display sample images\n",
        "# Create a 2x5 subplot showing first 10 images with their labels\n"
      ]
    },
    {
      "cell_type": "raw",
      "metadata": {
        "vscode": {
          "languageId": "raw"
        }
      },
      "source": [
        "## Phase 2: CNN Architecture Design (5-35 min)\n",
        "\n",
        "We'll create a 6-layer CNN architecture optimized for Fashion-MNIST classification.\n"
      ]
    },
    {
      "cell_type": "code",
      "execution_count": null,
      "metadata": {},
      "outputs": [],
      "source": [
        "# TODO: Define CNN Architecture\n",
        "# class FashionCNN(nn.Module):\n",
        "#     def __init__(self):\n",
        "#         super(FashionCNN, self).__init__()\n",
        "#         # TODO: Define first convolutional block\n",
        "#         # conv1, bn1, conv2, bn2, pool1\n",
        "#         \n",
        "#         # TODO: Define second convolutional block\n",
        "#         # conv3, bn3, conv4, bn4, pool2\n",
        "#         \n",
        "#         # TODO: Define third convolutional block\n",
        "#         # conv5, bn5, conv6, bn6, pool3\n",
        "#         \n",
        "#         # TODO: Define fully connected layers\n",
        "#         # fc1, dropout1, fc2, dropout2, fc3\n",
        "#         \n",
        "#     def forward(self, x):\n",
        "#         # TODO: Implement forward pass\n",
        "#         # Apply convolutions, activations, pooling\n",
        "#         # Flatten and apply fully connected layers\n",
        "#         return x\n",
        "\n",
        "# TODO: Initialize model and move to device\n",
        "# model = FashionCNN().to(device)\n",
        "\n",
        "# TODO: Calculate and print model parameters\n",
        "# total_params = sum(p.numel() for p in model.parameters())\n",
        "# print(f\"Total parameters: {total_params:,}\")\n"
      ]
    },
    {
      "cell_type": "code",
      "execution_count": null,
      "metadata": {},
      "outputs": [],
      "source": [
        "# TODO: Training Setup and Loop\n",
        "# criterion = nn.CrossEntropyLoss()\n",
        "# optimizer = optim.Adam(model.parameters(), lr=0.001)\n",
        "# scheduler = optim.lr_scheduler.StepLR(optimizer, step_size=1, gamma=0.9)\n",
        "\n",
        "# TODO: Training loop\n",
        "# num_epochs = 3\n",
        "# train_losses = []\n",
        "# train_accuracies = []\n",
        "\n",
        "# TODO: Implement training loop with:\n",
        "# - Progress bar using tqdm\n",
        "# - Loss and accuracy calculation\n",
        "# - Model parameter updates\n",
        "# - Learning rate scheduling\n",
        "\n",
        "# TODO: Model Evaluation\n",
        "# - Evaluate on test set\n",
        "# - Calculate per-class accuracy\n",
        "# - Save model weights to 'models/fashion_cnn_model.pt'\n",
        "\n",
        "# TODO: Plot training curves\n",
        "# - Loss over epochs\n",
        "# - Accuracy over epochs\n",
        "\n",
        "print(\"Training section ready for implementation!\")\n"
      ]
    },
    {
      "cell_type": "raw",
      "metadata": {
        "vscode": {
          "languageId": "raw"
        }
      },
      "source": [
        "## Phase 3: API Development (35-55 min)\n",
        "\n",
        "Now we'll create a FastAPI service for model inference. The `app.py` file contains the API implementation.\n",
        "\n",
        "### TODO: Review the app.py file and understand:\n",
        "1. Model loading and initialization\n",
        "2. Image preprocessing pipeline\n",
        "3. Prediction endpoint implementation\n",
        "4. Error handling and response formatting\n"
      ]
    },
    {
      "cell_type": "code",
      "execution_count": null,
      "metadata": {},
      "outputs": [],
      "source": [
        "# TODO: API Testing\n",
        "# 1. Start the API server in terminal: uvicorn app:app --host 0.0.0.0 --port 8000\n",
        "# 2. Create test functions for health check and prediction\n",
        "# 3. Test with sample images\n",
        "\n",
        "# TODO: Implement test_api_health() function\n",
        "# - Send GET request to /health endpoint\n",
        "# - Check response status and content\n",
        "\n",
        "# TODO: Implement test_api_prediction() function\n",
        "# - Send POST request to /predict_image endpoint\n",
        "# - Include image file in request\n",
        "# - Parse and display prediction results\n",
        "\n",
        "# TODO: Create sample test images\n",
        "# - Run create_sample_images.py to generate test images\n",
        "# - Test API with different image types\n",
        "\n",
        "print(\"API testing section ready!\")\n",
        "print(\"Steps to complete:\")\n",
        "print(\"1. Start API server: uvicorn app:app --host 0.0.0.0 --port 8000\")\n",
        "print(\"2. Implement test functions above\")\n",
        "print(\"3. Test health and prediction endpoints\")\n"
      ]
    },
    {
      "cell_type": "raw",
      "metadata": {
        "vscode": {
          "languageId": "raw"
        }
      },
      "source": [
        "## Phase 4: Containerization (55-75 min)\n",
        "\n",
        "Build and test the Docker container for deployment.\n",
        "\n",
        "### TODO: Review the Docker configuration files:\n",
        "1. `Dockerfile` - Multi-stage build configuration\n",
        "2. `docker-compose.yml` - Container orchestration\n",
        "3. `requirements.txt` - Python dependencies\n"
      ]
    },
    {
      "cell_type": "code",
      "execution_count": null,
      "metadata": {},
      "outputs": [],
      "source": [
        "# TODO: Docker Container Build and Test\n",
        "\n",
        "# Step 1: Build the Docker image\n",
        "# TODO: Run in terminal: docker build -t fashion-cnn-api .\n",
        "\n",
        "# Step 2: Run the container locally\n",
        "# TODO: Run in terminal: docker run -p 8000:8000 fashion-cnn-api\n",
        "\n",
        "# Step 3: Test the containerized API\n",
        "# TODO: Test health endpoint: curl http://localhost:8000/health\n",
        "# TODO: Test prediction endpoint with sample image\n",
        "\n",
        "# Step 4: Use docker-compose (recommended)\n",
        "# TODO: Run in terminal: docker-compose up --build\n",
        "\n",
        "print(\"Docker containerization commands:\")\n",
        "print(\"1. Build: docker build -t fashion-cnn-api .\")\n",
        "print(\"2. Run: docker run -p 8000:8000 fashion-cnn-api\")\n",
        "print(\"3. Test: curl http://localhost:8000/health\")\n",
        "print(\"4. Compose: docker-compose up --build\")\n",
        "print(\"5. Stop: docker-compose down\")\n"
      ]
    },
    {
      "cell_type": "raw",
      "metadata": {
        "vscode": {
          "languageId": "raw"
        }
      },
      "source": [
        "## Phase 5: Cloud Deployment (75-90 min)\n",
        "\n",
        "Deploy the containerized model to Hetzner VM and test the production API.\n",
        "\n",
        "### TODO: Complete the deployment process:\n",
        "1. Copy files to server using scp\n",
        "2. SSH into server and navigate to project directory\n",
        "3. Build and run containers with docker-compose\n",
        "4. Test production API endpoints\n",
        "5. Monitor deployment and troubleshoot issues\n"
      ]
    },
    {
      "cell_type": "code",
      "execution_count": null,
      "metadata": {},
      "outputs": [],
      "source": [
        "# TODO: Cloud Deployment Commands\n",
        "# Replace YOUR_SERVER_IP with your actual Hetzner server IP\n",
        "\n",
        "# Step 1: Copy files to server\n",
        "# TODO: scp -r . username@YOUR_SERVER_IP:/home/username/fashion-cnn-api/\n",
        "\n",
        "# Step 2: SSH into server\n",
        "# TODO: ssh username@YOUR_SERVER_IP\n",
        "\n",
        "# Step 3: Navigate to project directory\n",
        "# TODO: cd /home/username/fashion-cnn-api/\n",
        "\n",
        "# Step 4: Build and run with docker-compose\n",
        "# TODO: docker-compose up --build -d\n",
        "\n",
        "# Step 5: Test the deployed API\n",
        "# TODO: curl http://YOUR_SERVER_IP:8000/health\n",
        "\n",
        "# TODO: Create production API testing function\n",
        "# def test_production_api(server_ip):\n",
        "#     # Test health and prediction endpoints\n",
        "#     # Print results and status\n",
        "\n",
        "print(\"Cloud Deployment Steps:\")\n",
        "print(\"1. Copy files: scp -r . username@SERVER_IP:/path/\")\n",
        "print(\"2. SSH: ssh username@SERVER_IP\")\n",
        "print(\"3. Navigate: cd /path/to/project\")\n",
        "print(\"4. Deploy: docker-compose up --build -d\")\n",
        "print(\"5. Test: curl http://SERVER_IP:8000/health\")\n",
        "\n",
        "print(\"\\n🎯 Final Challenge:\")\n",
        "print(\"Complete all TODOs and successfully deploy your CNN classifier!\")\n",
        "print(\"Your API should be accessible at: http://YOUR_SERVER_IP:8000\")\n",
        "\n",
        "# TODO: Document your deployment URL and test results\n",
        "# SUCCESS_URL = \"http://YOUR_SERVER_IP:8000\"\n",
        "# print(f\"✅ Deployment successful at: {SUCCESS_URL}\")\n",
        "# print(\"✅ Health check: PASSED\")\n",
        "# print(\"✅ Prediction test: PASSED\")\n",
        "# print(\"🎉 CNN classifier is live in production!\")\n"
      ]
    }
  ],
  "metadata": {
    "language_info": {
      "name": "python"
    }
  },
  "nbformat": 4,
  "nbformat_minor": 2
}
