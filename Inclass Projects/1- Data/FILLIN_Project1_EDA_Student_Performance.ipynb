{
  "cells": [
    {
      "cell_type": "markdown",
      "metadata": {},
      "source": [
        "# Project 1: Exploratory Data Analysis on Student Performance Dataset\n",
        "\n",
        "**Goal**: Walk from raw CSV to clear, visual insights in a single notebook.\n",
        "\n",
        "## Session Overview (90 minutes)\n",
        "- **Kick-off (0-10 min)**: What makes \"good\" EDA?\n",
        "- **Live Demo (10-55 min)**: Instructor walkthrough\n",
        "- **Guided Exercise (55-80 min)**: Student practice\n",
        "- **Lightning Recap (80-90 min)**: Best practices & pitfalls\n",
        "\n",
        "## Checkpoints\n",
        "1. ✅ Load and inspect data\n",
        "2. ✅ Handle missing values\n",
        "3. ✅ Categorical vs Numeric audit\n",
        "4. ✅ Feature engineering\n",
        "5. ✅ Correlation analysis\n",
        "6. ✅ Visualization insights\n",
        "\n",
        "## 1. Setup and Data Loading"
      ]
    },
    {
      "cell_type": "code",
      "execution_count": null,
      "metadata": {},
      "outputs": [],
      "source": [
        "# Import necessary libraries\n",
        "import pandas as pd\n",
        "import numpy as np\n",
        "import matplotlib.pyplot as plt\n",
        "import seaborn as sns\n",
        "from scipy import stats\n",
        "\n",
        "# Set up plotting style\n",
        "plt.style.use('seaborn-v0_8')\n",
        "sns.set_palette(\"husl\")\n",
        "plt.rcParams['figure.figsize'] = (12, 8)\n",
        "\n",
        "# Display options\n",
        "pd.set_option('display.max_columns', None)\n",
        "pd.set_option('display.width', None)\n",
        "\n",
        "print(\"✅ Libraries imported successfully!\")"
      ]
    },
    {
      "cell_type": "code",
      "execution_count": null,
      "metadata": {},
      "outputs": [],
      "source": [
        "# TODO: Load the dataset\n",
        "# Hint: Use pd.read_csv() to load 'student_performance.csv'\n",
        "# df = pd.read_csv('student_performance.csv')\n",
        "\n",
        "# TODO: Display basic information about the dataset\n",
        "# print(f\"📊 Dataset loaded: {df.shape[0]} rows, {df.shape[1]} columns\")\n",
        "# print(\"\\nFirst 5 rows:\")\n",
        "# YOUR CODE HERE to display first 5 rows"
      ]
    },
    {
      "cell_type": "markdown",
      "metadata": {},
      "source": [
        "## 2. Data Overview and Types"
      ]
    },
    {
      "cell_type": "code",
      "execution_count": null,
      "metadata": {},
      "outputs": [],
      "source": [
        "# TODO: Display basic information about the dataset\n",
        "# Hint: Use df.info() and df.describe()\n",
        "print(\"📋 Dataset Info:\")\n",
        "print(\"=\" * 50)\n",
        "# YOUR CODE HERE\n",
        "\n",
        "print(\"\\n📈 Basic Statistics:\")\n",
        "print(\"=\" * 50)\n",
        "# YOUR CODE HERE"
      ]
    },
    {
      "cell_type": "code",
      "execution_count": null,
      "metadata": {},
      "outputs": [],
      "source": [
        "# TODO: Check for missing values\n",
        "# print(\"🔍 Missing Values Check:\")\n",
        "# print(\"=\" * 50)\n",
        "\n",
        "# Hint: Use df.isnull().sum() to count missing values\n",
        "# missing_values = df.isnull().sum()\n",
        "# missing_percentage = (missing_values / len(df)) * 100\n",
        "\n",
        "# Create a DataFrame to display missing values nicely\n",
        "# missing_df = pd.DataFrame({\n",
        "#     'Missing Count': missing_values,\n",
        "#     'Missing Percentage': missing_percentage\n",
        "# })\n",
        "# missing_df = missing_df[missing_df['Missing Count'] > 0]\n",
        "\n",
        "# if len(missing_df) == 0:\n",
        "#     print(\"✅ No missing values found!\")\n",
        "# else:\n",
        "#     print(missing_df)"
      ]
    },
    {
      "cell_type": "code",
      "execution_count": null,
      "metadata": {},
      "outputs": [],
      "source": [
        "# TODO: Create missing values heatmap\n",
        "# Hint: Use sns.heatmap() with df.isnull()\n",
        "# plt.figure(figsize=(10, 6))\n",
        "# sns.heatmap(df.isnull(), yticklabels=False, cbar=True, cmap='viridis')\n",
        "# plt.title('Missing Values Heatmap')\n",
        "# plt.tight_layout()\n",
        "# plt.show()\n",
        "\n",
        "# print(\"✅ Missing values visualization complete!\")"
      ]
    },
    {
      "cell_type": "markdown",
      "metadata": {},
      "source": [
        "## 3. Categorical vs Numeric Audit"
      ]
    },
    {
      "cell_type": "code",
      "execution_count": null,
      "metadata": {},
      "outputs": [],
      "source": [
        "# TODO: Separate categorical and numerical columns\n",
        "# Hint: Use df.select_dtypes() to identify column types\n",
        "# categorical_cols = df.select_dtypes(include=['object']).columns.tolist()\n",
        "# numerical_cols = df.select_dtypes(include=['int64', 'float64']).columns.tolist()\n",
        "\n",
        "# print(f\"📊 Categorical columns: {categorical_cols}\")\n",
        "# print(f\"📈 Numerical columns: {numerical_cols}\")\n",
        "\n",
        "# TODO: Display unique values for categorical columns\n",
        "# print(\"\\n🔤 Categorical Variables Analysis:\")\n",
        "# print(\"=\" * 50)\n",
        "# for col in categorical_cols:\n",
        "#     print(f\"\\n{col}:\")\n",
        "#     print(df[col].value_counts())\n",
        "#     print(f\"Unique values: {df[col].nunique()}\")"
      ]
    },
    {
      "cell_type": "code",
      "execution_count": null,
      "metadata": {},
      "outputs": [],
      "source": [
        "# TODO: Visualize categorical variables\n",
        "# Hint: Use sns.countplot() in subplots\n",
        "# fig, axes = plt.subplots(2, 2, figsize=(15, 12))\n",
        "# axes = axes.ravel()\n",
        "\n",
        "# for i, col in enumerate(categorical_cols):\n",
        "#     if i < 4:  # Only plot first 4 categorical variables\n",
        "#         sns.countplot(data=df, x=col, ax=axes[i])\n",
        "#         axes[i].set_title(f'Distribution of {col}')\n",
        "#         axes[i].tick_params(axis='x', rotation=45)\n",
        "\n",
        "# plt.tight_layout()\n",
        "# plt.show()"
      ]
    },
    {
      "cell_type": "markdown",
      "metadata": {},
      "source": [
        "## 4. Feature Engineering"
      ]
    },
    {
      "cell_type": "code",
      "execution_count": null,
      "metadata": {},
      "outputs": [],
      "source": [
        "# TODO: Create study time bands (engineered feature)\n",
        "# Hint: Create a function to map study_time to bands\n",
        "def create_study_bands(study_time):\n",
        "    # YOUR CODE HERE\n",
        "    # if study_time == 1:\n",
        "    #     return 'Low'\n",
        "    # elif study_time == 2:\n",
        "    #     return 'Medium'\n",
        "    # elif study_time == 3:\n",
        "    #     return 'High'\n",
        "    # else:\n",
        "    #     return 'Very High'\n",
        "    pass\n",
        "\n",
        "# Apply the function to create the new feature\n",
        "# df['study_time_band'] = df['study_time'].apply(create_study_bands)\n",
        "\n",
        "# print(\"✅ Study time bands created!\")\n",
        "# print(\"\\nStudy Time Bands Distribution:\")\n",
        "# print(df['study_time_band'].value_counts())"
      ]
    },
    {
      "cell_type": "code",
      "execution_count": null,
      "metadata": {},
      "outputs": [],
      "source": [
        "# TODO: Create meal habit feature\n",
        "# Hint: Combine breakfast and lunch columns with '_'\n",
        "# df['meal_habit'] = df['breakfast'] + '_' + df['lunch']\n",
        "\n",
        "# print(\"✅ Meal habit feature created!\")\n",
        "# print(\"\\nMeal Habit Distribution:\")\n",
        "# print(df['meal_habit'].value_counts())"
      ]
    },
    {
      "cell_type": "markdown",
      "metadata": {},
      "source": [
        "## 5. Correlation Analysis"
      ]
    },
    {
      "cell_type": "code",
      "execution_count": null,
      "metadata": {},
      "outputs": [],
      "source": [
        "# TODO: Select numerical columns for correlation analysis\n",
        "# numerical_df = df[numerical_cols]\n",
        "\n",
        "# TODO: Calculate correlation matrix\n",
        "# Hint: Use the .corr() method\n",
        "# correlation_matrix = numerical_df.corr()\n",
        "\n",
        "# print(\"📊 Correlation Matrix:\")\n",
        "# print(\"=\" * 50)\n",
        "# print(correlation_matrix.round(3))"
      ]
    },
    {
      "cell_type": "code",
      "execution_count": null,
      "metadata": {},
      "outputs": [],
      "source": [
        "# TODO: Create correlation heatmap\n",
        "# Hint: Use sns.heatmap() with a mask for the upper triangle\n",
        "# plt.figure(figsize=(10, 8))\n",
        "# mask = np.triu(np.ones_like(correlation_matrix, dtype=bool))\n",
        "# sns.heatmap(correlation_matrix, mask=mask, annot=True, cmap='coolwarm', center=0,\n",
        "#             square=True, linewidths=0.5, cbar_kws={\"shrink\": .8})\n",
        "# plt.title('Correlation Heatmap of Numerical Variables')\n",
        "# plt.tight_layout()\n",
        "# plt.show()"
      ]
    },
    {
      "cell_type": "markdown",
      "metadata": {},
      "source": [
        "## 6. Guided Mini-Exercise\n",
        "\n",
        "**Choose ONE of the following prompts to investigate:**\n",
        "\n",
        "### Option A: Which non-academic factors correlate most with final grade?\n",
        "- Investigate gender, breakfast habits, lunch habits, meal combinations\n",
        "- Create box plots and statistical tests\n",
        "- Calculate summary statistics by groups\n",
        "\n",
        "### Option B: How does study time interact with parental education?\n",
        "- Create pivot tables and heatmaps\n",
        "- Analyze average grades by education level and study time\n",
        "- Look for interaction effects\n",
        "\n",
        "**Instructions:**\n",
        "1. Create at least 2 visualizations\n",
        "2. Calculate relevant statistics\n",
        "3. Draw insights from your analysis\n",
        "4. Document your findings below"
      ]
    },
    {
      "cell_type": "code",
      "execution_count": null,
      "metadata": {},
      "outputs": [],
      "source": [
        "# TODO: Option A - Non-academic factors analysis\n",
        "# Uncomment and complete the code below if you choose Option A\n",
        "\n",
        "# print(\"🔍 Option A: Non-academic factors analysis\")\n",
        "# print(\"=\" * 50)\n",
        "\n",
        "# 1. Gender analysis\n",
        "# plt.figure(figsize=(15, 5))\n",
        "# plt.subplot(1, 3, 1)\n",
        "# YOUR CODE HERE for gender boxplot\n",
        "\n",
        "# 2. Breakfast impact\n",
        "# plt.subplot(1, 3, 2)\n",
        "# YOUR CODE HERE for breakfast boxplot\n",
        "\n",
        "# 3. Meal habit analysis\n",
        "# plt.subplot(1, 3, 3)\n",
        "# YOUR CODE HERE for meal habit boxplot\n",
        "\n",
        "# plt.tight_layout()\n",
        "# plt.show()\n",
        "\n",
        "# Statistical tests\n",
        "# Hint: Use stats.ttest_ind() for comparing groups\n",
        "# male_grades = df[df['gender'] == 'Male']['final_grade']\n",
        "# female_grades = df[df['gender'] == 'Female']['final_grade']\n",
        "# t_stat, p_value = stats.ttest_ind(male_grades, female_grades)\n",
        "# print(f\"Gender difference t-test p-value: {p_value:.4f}\")\n",
        "\n",
        "# YOUR CODE HERE for breakfast impact test\n",
        "\n",
        "# Summary statistics\n",
        "# print(\"\\n📊 Summary Statistics by Gender:\")\n",
        "# print(df.groupby('gender')['final_grade'].agg(['mean', 'std', 'count']))\n"
      ]
    },
    {
      "cell_type": "code",
      "execution_count": null,
      "metadata": {},
      "outputs": [],
      "source": [
        "# TODO: Option B - Study time and parental education interaction\n",
        "# Uncomment and complete the code below if you choose Option B\n",
        "\n",
        "# print(\"🔍 Option B: Study time and parental education interaction\")\n",
        "# print(\"=\" * 50)\n",
        "\n",
        "# 1. Create pivot table\n",
        "# pivot_table = df.pivot_table(\n",
        "#     values='final_grade', \n",
        "#     index='parental_education', \n",
        "#     columns='study_time_band', \n",
        "#     aggfunc='mean'\n",
        "# )\n",
        "# print(\"Average Final Grade by Education and Study Time:\")\n",
        "# print(pivot_table.round(1))\n",
        "\n",
        "# 2. Visualization\n",
        "# plt.figure(figsize=(12, 8))\n",
        "# plt.subplot(2, 2, 1)\n",
        "# YOUR CODE HERE for heatmap\n",
        "\n",
        "# plt.subplot(2, 2, 2)\n",
        "# YOUR CODE HERE for education boxplot\n",
        "\n",
        "# plt.subplot(2, 2, 3)\n",
        "# YOUR CODE HERE for study time by education countplot\n",
        "\n",
        "# plt.subplot(2, 2, 4)\n",
        "# YOUR CODE HERE for interaction line plot\n",
        "\n",
        "# plt.tight_layout()\n",
        "# plt.show()\n",
        "\n",
        "# Statistical analysis\n",
        "# print(\"\\n📊 Summary Statistics:\")\n",
        "# summary = df.groupby(['parental_education', 'study_time_band'])['final_grade'].agg(['mean', 'count'])\n",
        "# print(summary.round(1))"
      ]
    },
    {
      "cell_type": "markdown",
      "metadata": {},
      "source": [
        "## 7. Your Insights Summary\n",
        "\n",
        "**Document your findings here:**\n",
        "\n",
        "### Data Quality:\n",
        "- **Missing values**: [YOUR FINDINGS]\n",
        "- **Data types**: [YOUR FINDINGS]\n",
        "- **Outliers**: [YOUR FINDINGS]\n",
        "\n",
        "### Key Correlations:\n",
        "1. **[Variable Name]** ([correlation]) - [Your interpretation]\n",
        "2. **[Variable Name]** ([correlation]) - [Your interpretation]\n",
        "3. **[Variable Name]** ([correlation]) - [Your interpretation]\n",
        "\n",
        "### Feature Engineering Results:\n",
        "- **Study time bands**: [YOUR FINDINGS]\n",
        "- **Meal habits**: [YOUR FINDINGS]\n",
        "\n",
        "### Mini-Exercise Results:\n",
        "**Which option did you choose?** [A or B]\n",
        "\n",
        "**Key findings:**\n",
        "- [YOUR FINDING 1]\n",
        "- [YOUR FINDING 2]\n",
        "- [YOUR FINDING 3]\n",
        "\n",
        "### Your Recommendations:\n",
        "1. [YOUR RECOMMENDATION 1]\n",
        "2. [YOUR RECOMMENDATION 2]\n",
        "3. [YOUR RECOMMENDATION 3]"
      ]
    },
    {
      "cell_type": "markdown",
      "metadata": {},
      "source": [
        "## 8. Best Practices & Common Pitfalls\n",
        "\n",
        "### ✅ Best Practices Demonstrated:\n",
        "1. **Data loading and inspection** - Always check data types and missing values\n",
        "2. **Visualization hierarchy** - Start with distributions, then correlations\n",
        "3. **Feature engineering** - Create meaningful derived features\n",
        "4. **Correlation analysis** - Use heatmaps and pair plots effectively\n",
        "5. **Documentation** - Clear markdown explanations\n",
        "\n",
        "### ⚠️ Common Pitfalls to Avoid:\n",
        "1. **Ignoring data types** - Categorical vs numerical treatment\n",
        "2. **Correlation ≠ Causation** - Always interpret carefully\n",
        "3. **Over-plotting** - Too many visualizations can confuse\n",
        "4. **Missing context** - Always explain what insights mean\n",
        "5. **No action items** - EDA should lead to recommendations\n",
        "\n",
        "### 🎯 Next Steps:\n",
        "- Consider feature selection for modeling\n",
        "- Plan data preprocessing pipeline\n",
        "- Design hypothesis testing experiments\n",
        "- Implement recommendations and measure impact\n",
        "\n",
        "### 📚 Additional Resources:\n",
        "- [Pandas Documentation](https://pandas.pydata.org/docs/)\n",
        "- [Seaborn Gallery](https://seaborn.pydata.org/examples/index.html)\n",
        "- [Matplotlib Tutorials](https://matplotlib.org/stable/tutorials/index.html)"
      ]
    }
  ],
  "metadata": {
    "language_info": {
      "name": "python"
    }
  },
  "nbformat": 4,
  "nbformat_minor": 2
}
