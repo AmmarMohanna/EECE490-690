{
 "cells": [
  {
   "cell_type": "raw",
   "metadata": {
    "vscode": {
     "languageId": "raw"
    }
   },
   "source": [
    "# Project 1: Exploratory Data Analysis on Student Performance Dataset\n",
    "\n",
    "**Goal**: Walk from raw CSV to clear, visual insights in a single notebook.\n",
    "\n",
    "## Session Overview (90 minutes)\n",
    "- **Kick-off (0-10 min)**: What makes \"good\" EDA?\n",
    "- **Live Demo (10-55 min)**: Instructor walkthrough\n",
    "- **Guided Exercise (55-80 min)**: Student practice\n",
    "- **Lightning Recap (80-90 min)**: Best practices & pitfalls\n",
    "\n",
    "## Checkpoints\n",
    "1. ✅ Load and inspect data\n",
    "2. ✅ Handle missing values\n",
    "3. ✅ Categorical vs Numeric audit\n",
    "4. ✅ Feature engineering\n",
    "5. ✅ Correlation analysis\n",
    "6. ✅ Visualization insights\n"
   ]
  },
  {
   "cell_type": "raw",
   "id": "905639d4",
   "metadata": {
    "vscode": {
     "languageId": "raw"
    }
   },
   "source": [
    "## 1. Setup and Data Loading\n"
   ]
  },
  {
   "cell_type": "code",
   "execution_count": null,
   "id": "c8ab32bc",
   "metadata": {},
   "outputs": [],
   "source": [
    "# Import necessary libraries\n",
    "import pandas as pd\n",
    "import numpy as np\n",
    "import matplotlib.pyplot as plt\n",
    "import seaborn as sns\n",
    "from scipy import stats\n",
    "\n",
    "# Set up plotting style\n",
    "plt.style.use('seaborn-v0_8')\n",
    "sns.set_palette(\"husl\")\n",
    "plt.rcParams['figure.figsize'] = (12, 8)\n",
    "\n",
    "# Display options\n",
    "pd.set_option('display.max_columns', None)\n",
    "pd.set_option('display.width', None)\n",
    "\n",
    "print(\"✅ Libraries imported successfully!\")\n"
   ]
  },
  {
   "cell_type": "code",
   "execution_count": null,
   "id": "d74a5409",
   "metadata": {},
   "outputs": [],
   "source": [
    "# Load the dataset\n",
    "df = pd.read_csv('student_performance.csv')\n",
    "\n",
    "print(f\"📊 Dataset loaded: {df.shape[0]} rows, {df.shape[1]} columns\")\n",
    "print(\"\\nFirst 5 rows:\")\n",
    "df.head()\n"
   ]
  },
  {
   "cell_type": "raw",
   "metadata": {
    "vscode": {
     "languageId": "raw"
    }
   },
   "source": [
    "## 2. Data Overview and Types\n"
   ]
  },
  {
   "cell_type": "code",
   "execution_count": null,
   "id": "00e2ddd9",
   "metadata": {},
   "outputs": [],
   "source": [
    "# Basic information about the dataset\n",
    "print(\"📋 Dataset Info:\")\n",
    "print(\"=\" * 50)\n",
    "df.info()\n",
    "\n",
    "print(\"\\n📈 Basic Statistics:\")\n",
    "print(\"=\" * 50)\n",
    "df.describe()\n"
   ]
  },
  {
   "cell_type": "code",
   "execution_count": null,
   "id": "82026809",
   "metadata": {},
   "outputs": [],
   "source": [
    "# Check for missing values\n",
    "print(\"🔍 Missing Values Check:\")\n",
    "print(\"=\" * 50)\n",
    "missing_values = df.isnull().sum()\n",
    "missing_percentage = (missing_values / len(df)) * 100\n",
    "\n",
    "missing_df = pd.DataFrame({\n",
    "    'Missing Count': missing_values,\n",
    "    'Missing Percentage': missing_percentage\n",
    "})\n",
    "missing_df = missing_df[missing_df['Missing Count'] > 0]\n",
    "\n",
    "if len(missing_df) == 0:\n",
    "    print(\"✅ No missing values found!\")\n",
    "else:\n",
    "    print(missing_df)\n"
   ]
  },
  {
   "cell_type": "code",
   "execution_count": null,
   "id": "c8ec4727",
   "metadata": {},
   "outputs": [],
   "source": [
    "# Create missing values heatmap\n",
    "plt.figure(figsize=(10, 6))\n",
    "sns.heatmap(df.isnull(), yticklabels=False, cbar=True, cmap='viridis')\n",
    "plt.title('Missing Values Heatmap')\n",
    "plt.tight_layout()\n",
    "plt.show()\n",
    "\n",
    "print(\"✅ Missing values visualization complete!\")\n"
   ]
  },
  {
   "cell_type": "raw",
   "metadata": {
    "vscode": {
     "languageId": "raw"
    }
   },
   "source": [
    "## 3. Categorical vs Numeric Audit\n"
   ]
  },
  {
   "cell_type": "code",
   "execution_count": null,
   "id": "b56a08dd",
   "metadata": {},
   "outputs": [],
   "source": [
    "# Separate categorical and numerical columns\n",
    "categorical_cols = df.select_dtypes(include=['object']).columns.tolist()\n",
    "numerical_cols = df.select_dtypes(include=['int64', 'float64']).columns.tolist()\n",
    "\n",
    "print(f\"📊 Categorical columns: {categorical_cols}\")\n",
    "print(f\"📈 Numerical columns: {numerical_cols}\")\n",
    "\n",
    "# Display unique values for categorical columns\n",
    "print(\"\\n🔤 Categorical Variables Analysis:\")\n",
    "print(\"=\" * 50)\n",
    "for col in categorical_cols:\n",
    "    print(f\"\\n{col}:\")\n",
    "    print(df[col].value_counts())\n",
    "    print(f\"Unique values: {df[col].nunique()}\")\n"
   ]
  },
  {
   "cell_type": "code",
   "execution_count": null,
   "id": "bbc83211",
   "metadata": {},
   "outputs": [],
   "source": [
    "# Visualize categorical variables\n",
    "fig, axes = plt.subplots(2, 2, figsize=(15, 12))\n",
    "axes = axes.ravel()\n",
    "\n",
    "for i, col in enumerate(categorical_cols):\n",
    "    if i < 4:  # Only plot first 4 categorical variables\n",
    "        sns.countplot(data=df, x=col, ax=axes[i])\n",
    "        axes[i].set_title(f'Distribution of {col}')\n",
    "        axes[i].tick_params(axis='x', rotation=45)\n",
    "\n",
    "plt.tight_layout()\n",
    "plt.show()\n"
   ]
  },
  {
   "cell_type": "raw",
   "metadata": {
    "vscode": {
     "languageId": "raw"
    }
   },
   "source": [
    "## 4. Feature Engineering\n"
   ]
  },
  {
   "cell_type": "code",
   "execution_count": null,
   "id": "8b6ad2a3",
   "metadata": {},
   "outputs": [],
   "source": [
    "# Create study time bands (engineered feature)\n",
    "def create_study_bands(study_time):\n",
    "    if study_time == 1:\n",
    "        return 'Low'\n",
    "    elif study_time == 2:\n",
    "        return 'Medium'\n",
    "    elif study_time == 3:\n",
    "        return 'High'\n",
    "    else:\n",
    "        return 'Very High'\n",
    "\n",
    "df['study_time_band'] = df['study_time'].apply(create_study_bands)\n",
    "\n",
    "print(\"✅ Study time bands created!\")\n",
    "print(\"\\nStudy Time Bands Distribution:\")\n",
    "print(df['study_time_band'].value_counts())\n"
   ]
  },
  {
   "cell_type": "code",
   "execution_count": null,
   "id": "eafa57af",
   "metadata": {},
   "outputs": [],
   "source": [
    "# Create meal habit feature\n",
    "df['meal_habit'] = df['breakfast'] + '_' + df['lunch']\n",
    "\n",
    "print(\"✅ Meal habit feature created!\")\n",
    "print(\"\\nMeal Habit Distribution:\")\n",
    "print(df['meal_habit'].value_counts())\n"
   ]
  },
  {
   "cell_type": "code",
   "execution_count": null,
   "id": "29b6393c",
   "metadata": {},
   "outputs": [],
   "source": [
    "# Visualize the new engineered features\n",
    "fig, axes = plt.subplots(1, 2, figsize=(15, 6))\n",
    "\n",
    "# Study time bands\n",
    "sns.countplot(data=df, x='study_time_band', ax=axes[0])\n",
    "axes[0].set_title('Distribution of Study Time Bands')\n",
    "\n",
    "# Meal habits\n",
    "sns.countplot(data=df, x='meal_habit', ax=axes[1])\n",
    "axes[1].set_title('Distribution of Meal Habits')\n",
    "axes[1].tick_params(axis='x', rotation=45)\n",
    "\n",
    "plt.tight_layout()\n",
    "plt.show()\n"
   ]
  },
  {
   "cell_type": "raw",
   "metadata": {
    "vscode": {
     "languageId": "raw"
    }
   },
   "source": [
    "## 5. Correlation Analysis\n"
   ]
  },
  {
   "cell_type": "code",
   "execution_count": null,
   "id": "01ff6a80",
   "metadata": {},
   "outputs": [],
   "source": [
    "# Select numerical columns for correlation analysis\n",
    "numerical_df = df[numerical_cols]\n",
    "\n",
    "# Calculate correlation matrix\n",
    "correlation_matrix = numerical_df.corr()\n",
    "\n",
    "print(\"📊 Correlation Matrix:\")\n",
    "print(\"=\" * 50)\n",
    "print(correlation_matrix.round(3))\n"
   ]
  },
  {
   "cell_type": "code",
   "execution_count": null,
   "id": "94304bff",
   "metadata": {},
   "outputs": [],
   "source": [
    "# Create correlation heatmap\n",
    "plt.figure(figsize=(10, 8))\n",
    "mask = np.triu(np.ones_like(correlation_matrix, dtype=bool))\n",
    "sns.heatmap(correlation_matrix, mask=mask, annot=True, cmap='coolwarm', center=0,\n",
    "            square=True, linewidths=0.5, cbar_kws={\"shrink\": .8})\n",
    "plt.title('Correlation Heatmap of Numerical Variables')\n",
    "plt.tight_layout()\n",
    "plt.show()\n"
   ]
  },
  {
   "cell_type": "code",
   "execution_count": null,
   "id": "f471f2de",
   "metadata": {},
   "outputs": [],
   "source": [
    "# Find top correlations with final_grade\n",
    "grade_correlations = correlation_matrix['final_grade'].abs().sort_values(ascending=False)\n",
    "print(\"🔝 Top correlations with final_grade:\")\n",
    "print(\"=\" * 50)\n",
    "for var, corr in grade_correlations.items():\n",
    "    if var != 'final_grade':\n",
    "        print(f\"{var}: {corr:.3f}\")\n"
   ]
  },
  {
   "cell_type": "code",
   "execution_count": null,
   "id": "72f5d284",
   "metadata": {},
   "outputs": [],
   "source": [
    "# Create pair plot for top correlated variables\n",
    "top_corr_vars = ['final_grade', 'previous_score', 'attendance_rate', 'study_time']\n",
    "sns.pairplot(df[top_corr_vars], diag_kind='kde')\n",
    "plt.suptitle('Pair Plot of Top Correlated Variables', y=1.02)\n",
    "plt.show()\n"
   ]
  },
  {
   "cell_type": "code",
   "execution_count": null,
   "id": "2fb05977",
   "metadata": {},
   "outputs": [],
   "source": [
    "# Create pair plot for top correlated variables\n",
    "top_corr_vars = ['final_grade', 'previous_score', 'attendance_rate', 'study_time']\n",
    "sns.pairplot(df[top_corr_vars], diag_kind='kde')\n",
    "plt.suptitle('Pair Plot of Top Correlated Variables', y=1.02)\n",
    "plt.show()\n"
   ]
  },
  {
   "cell_type": "raw",
   "id": "b1a199f6",
   "metadata": {
    "vscode": {
     "languageId": "raw"
    }
   },
   "source": [
    "## 6. Guided Mini-Exercise\n",
    "\n",
    "**Choose ONE of the following prompts to investigate:**\n",
    "\n",
    "### Option A: Which non-academic factors correlate most with final grade?\n",
    "### Option B: How does study time interact with parental education?\n",
    "\n",
    "**Instructions:**\n",
    "1. Create at least 2 visualizations\n",
    "2. Calculate relevant statistics\n",
    "3. Draw insights from your analysis\n"
   ]
  },
  {
   "cell_type": "code",
   "execution_count": null,
   "id": "d8cd2dc2",
   "metadata": {},
   "outputs": [],
   "source": [
    "# Option A: Non-academic factors analysis\n",
    "print(\"🔍 Option A: Non-academic factors analysis\")\n",
    "print(\"=\" * 50)\n",
    "\n",
    "# 1. Gender analysis\n",
    "plt.figure(figsize=(15, 5))\n",
    "plt.subplot(1, 3, 1)\n",
    "sns.boxplot(data=df, x='gender', y='final_grade')\n",
    "plt.title('Final Grade by Gender')\n",
    "\n",
    "# 2. Meal habit analysis\n",
    "plt.subplot(1, 3, 2)\n",
    "sns.boxplot(data=df, x='meal_habit', y='final_grade')\n",
    "plt.title('Final Grade by Meal Habit')\n",
    "plt.xticks(rotation=45)\n",
    "\n",
    "# 3. Breakfast impact\n",
    "plt.subplot(1, 3, 3)\n",
    "sns.boxplot(data=df, x='breakfast', y='final_grade')\n",
    "plt.title('Final Grade by Breakfast')\n",
    "\n",
    "plt.tight_layout()\n",
    "plt.show()\n",
    "\n",
    "# Statistical tests\n",
    "male_grades = df[df['gender'] == 'Male']['final_grade']\n",
    "female_grades = df[df['gender'] == 'Female']['final_grade']\n",
    "t_stat, p_value = stats.ttest_ind(male_grades, female_grades)\n",
    "print(f\"\\nGender difference t-test p-value: {p_value:.4f}\")\n",
    "\n",
    "# Breakfast impact\n",
    "breakfast_yes = df[df['breakfast'] == 'Yes']['final_grade']\n",
    "breakfast_no = df[df['breakfast'] == 'No']['final_grade']\n",
    "t_stat2, p_value2 = stats.ttest_ind(breakfast_yes, breakfast_no)\n",
    "print(f\"Breakfast impact t-test p-value: {p_value2:.4f}\")\n",
    "\n",
    "print(\"\\n📊 Summary Statistics by Gender:\")\n",
    "print(df.groupby('gender')['final_grade'].agg(['mean', 'std', 'count']))\n"
   ]
  },
  {
   "cell_type": "code",
   "execution_count": null,
   "id": "f4f2db85",
   "metadata": {},
   "outputs": [],
   "source": [
    "# Option B: Study time and parental education interaction\n",
    "print(\"🔍 Option B: Study time and parental education interaction\")\n",
    "print(\"=\" * 50)\n",
    "\n",
    "# 1. Create pivot table\n",
    "pivot_table = df.pivot_table(\n",
    "    values='final_grade', \n",
    "    index='parental_education', \n",
    "    columns='study_time_band', \n",
    "    aggfunc='mean'\n",
    ")\n",
    "print(\"Average Final Grade by Education and Study Time:\")\n",
    "print(pivot_table.round(1))\n",
    "\n",
    "# 2. Visualization\n",
    "plt.figure(figsize=(12, 8))\n",
    "plt.subplot(2, 2, 1)\n",
    "sns.heatmap(pivot_table, annot=True, cmap='YlOrRd', fmt='.1f')\n",
    "plt.title('Average Final Grade by Education and Study Time')\n",
    "\n",
    "# 3. Box plot by education level\n",
    "plt.subplot(2, 2, 2)\n",
    "sns.boxplot(data=df, x='parental_education', y='final_grade')\n",
    "plt.title('Final Grade by Parental Education')\n",
    "plt.xticks(rotation=45)\n",
    "\n",
    "# 4. Study time distribution by education\n",
    "plt.subplot(2, 2, 3)\n",
    "sns.countplot(data=df, x='study_time_band', hue='parental_education')\n",
    "plt.title('Study Time Distribution by Education')\n",
    "plt.xticks(rotation=45)\n",
    "\n",
    "# 5. Interaction plot\n",
    "plt.subplot(2, 2, 4)\n",
    "for education in df['parental_education'].unique():\n",
    "    subset = df[df['parental_education'] == education]\n",
    "    study_means = subset.groupby('study_time')['final_grade'].mean()\n",
    "    plt.plot(study_means.index, study_means.values, marker='o', label=education)\n",
    "plt.xlabel('Study Time (hours)')\n",
    "plt.ylabel('Average Final Grade')\n",
    "plt.title('Study Time vs Grade by Education')\n",
    "plt.legend()\n",
    "\n",
    "plt.tight_layout()\n",
    "plt.show()\n",
    "\n",
    "# Statistical analysis\n",
    "print(\"\\n📊 Summary Statistics:\")\n",
    "summary = df.groupby(['parental_education', 'study_time_band'])['final_grade'].agg(['mean', 'count'])\n",
    "print(summary.round(1))\n"
   ]
  },
  {
   "cell_type": "raw",
   "metadata": {
    "vscode": {
     "languageId": "raw"
    }
   },
   "source": [
    "\n",
    "## 6. Guided Mini-Exercise\n",
    "\n",
    "**Choose ONE of the following prompts to investigate:**\n",
    "\n",
    "### Option A: Which non-academic factors correlate most with final grade?\n",
    "### Option B: How does study time interact with parental education?\n",
    "\n",
    "**Instructions:**\n",
    "1. Create at least 2 visualizations\n",
    "2. Calculate relevant statistics\n",
    "3. Draw insights from your analysis\n"
   ]
  },
  {
   "cell_type": "code",
   "execution_count": null,
   "id": "fdb9bc9a",
   "metadata": {},
   "outputs": [],
   "source": [
    "# Option A: Non-academic factors analysis\n",
    "print(\"🔍 Option A: Non-academic factors analysis\")\n",
    "print(\"=\" * 50)\n",
    "\n",
    "# 1. Gender analysis\n",
    "plt.figure(figsize=(15, 5))\n",
    "plt.subplot(1, 3, 1)\n",
    "sns.boxplot(data=df, x='gender', y='final_grade')\n",
    "plt.title('Final Grade by Gender')\n",
    "\n",
    "# 2. Meal habit analysis\n",
    "plt.subplot(1, 3, 2)\n",
    "sns.boxplot(data=df, x='meal_habit', y='final_grade')\n",
    "plt.title('Final Grade by Meal Habit')\n",
    "plt.xticks(rotation=45)\n",
    "\n",
    "# 3. Breakfast impact\n",
    "plt.subplot(1, 3, 3)\n",
    "sns.boxplot(data=df, x='breakfast', y='final_grade')\n",
    "plt.title('Final Grade by Breakfast')\n",
    "\n",
    "plt.tight_layout()\n",
    "plt.show()\n",
    "\n",
    "# Statistical tests\n",
    "from scipy import stats\n",
    "male_grades = df[df['gender'] == 'Male']['final_grade']\n",
    "female_grades = df[df['gender'] == 'Female']['final_grade']\n",
    "t_stat, p_value = stats.ttest_ind(male_grades, female_grades)\n",
    "print(f\"\\\\nGender difference t-test p-value: {p_value:.4f}\")\n",
    "\n",
    "# Breakfast impact\n",
    "breakfast_yes = df[df['breakfast'] == 'Yes']['final_grade']\n",
    "breakfast_no = df[df['breakfast'] == 'No']['final_grade']\n",
    "t_stat2, p_value2 = stats.ttest_ind(breakfast_yes, breakfast_no)\n",
    "print(f\"Breakfast impact t-test p-value: {p_value2:.4f}\")\n",
    "\n",
    "print(\"\\\\n📊 Summary Statistics by Gender:\")\n",
    "print(df.groupby('gender')['final_grade'].agg(['mean', 'std', 'count']))\n"
   ]
  },
  {
   "cell_type": "raw",
   "metadata": {
    "vscode": {
     "languageId": "raw"
    }
   },
   "source": [
    "## 7. Key Insights Summary\n",
    "\n",
    "**Document your findings here:**\n",
    "\n",
    "### Data Quality:\n",
    "- **Missing values**: No missing values found in the dataset ✅\n",
    "- **Data types**: Mixed categorical (4) and numerical (6) variables\n",
    "- **Outliers**: No significant outliers detected in the numerical variables\n",
    "\n",
    "### Key Correlations:\n",
    "1. **Previous Score** (0.999) - Strongest predictor of final grade\n",
    "2. **Attendance Rate** (0.986) - High correlation with academic performance  \n",
    "3. **Study Time** (0.949) - Clear positive relationship with grades\n",
    "\n",
    "### Feature Engineering Insights:\n",
    "- **Study time bands**: Most students fall into Medium (2hrs) and High (3hrs) categories\n",
    "- **Meal habits**: Students with both breakfast and lunch show better performance\n",
    "\n",
    "### Mini-Exercise Results:\n",
    "- **Gender**: No significant difference in performance between male and female students\n",
    "- **Breakfast**: Students who eat breakfast score ~8 points higher on average\n",
    "- **Study-Education Interaction**: Higher parental education correlates with more study time\n",
    "\n",
    "### Recommendations:\n",
    "1. **Attendance Programs**: Focus on improving attendance rates as they strongly correlate with grades\n",
    "2. **Nutrition Programs**: Promote breakfast programs as they show measurable impact\n",
    "3. **Study Support**: Provide structured study time guidance, especially for students with less educated parents\n",
    "4. **Early Intervention**: Use previous scores and attendance to identify at-risk students early\n"
   ]
  },
  {
   "cell_type": "raw",
   "metadata": {
    "vscode": {
     "languageId": "raw"
    }
   },
   "source": [
    "## 8. Best Practices & Common Pitfalls\n",
    "\n",
    "### ✅ Best Practices Demonstrated:\n",
    "1. **Data loading and inspection** - Always check data types and missing values\n",
    "2. **Visualization hierarchy** - Start with distributions, then correlations\n",
    "3. **Feature engineering** - Create meaningful derived features\n",
    "4. **Correlation analysis** - Use heatmaps and pair plots effectively\n",
    "5. **Documentation** - Clear markdown explanations\n",
    "\n",
    "### ⚠️ Common Pitfalls to Avoid:\n",
    "1. **Ignoring data types** - Categorical vs numerical treatment\n",
    "2. **Correlation ≠ Causation** - Always interpret carefully\n",
    "3. **Over-plotting** - Too many visualizations can confuse\n",
    "4. **Missing context** - Always explain what insights mean\n",
    "5. **No action items** - EDA should lead to recommendations\n",
    "\n",
    "### 🎯 Next Steps:\n",
    "- Consider feature selection for modeling\n",
    "- Plan data preprocessing pipeline\n",
    "- Design hypothesis testing experiments\n",
    "- Implement recommendations and measure impact\n"
   ]
  },
  {
   "cell_type": "code",
   "execution_count": null,
   "id": "8b29780b",
   "metadata": {},
   "outputs": [],
   "source": []
  },
  {
   "cell_type": "code",
   "execution_count": null,
   "id": "e13ee1b4",
   "metadata": {},
   "outputs": [],
   "source": []
  }
 ],
 "metadata": {
  "language_info": {
   "name": "python"
  }
 },
 "nbformat": 4,
 "nbformat_minor": 5
}
